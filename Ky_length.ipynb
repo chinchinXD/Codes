{
  "nbformat": 4,
  "nbformat_minor": 0,
  "metadata": {
    "colab": {
      "provenance": [],
      "authorship_tag": "ABX9TyOk2GueXv0qCxN14dlNfAd5",
      "include_colab_link": true
    },
    "kernelspec": {
      "name": "python3",
      "display_name": "Python 3"
    },
    "language_info": {
      "name": "python"
    }
  },
  "cells": [
    {
      "cell_type": "markdown",
      "metadata": {
        "id": "view-in-github",
        "colab_type": "text"
      },
      "source": [
        "<a href=\"https://colab.research.google.com/github/chinchinXD/Codes/blob/main/Ky_length.ipynb\" target=\"_parent\"><img src=\"https://colab.research.google.com/assets/colab-badge.svg\" alt=\"Open In Colab\"/></a>"
      ]
    },
    {
      "cell_type": "code",
      "execution_count": null,
      "metadata": {
        "id": "lyZ2nI_QIwYw"
      },
      "outputs": [],
      "source": [
        "import pandas as pd\n",
        "\n",
        "# Load the Excel file into a DataFrame\n",
        "file_path = \"Urls.xlsx\"\n",
        "df = pd.read_excel(file_path)\n",
        "\n",
        "# Calculate the number of words in each query and create a new column\n",
        "df['length of query'] = df['Query'].apply(lambda x: len(x.split()))\n",
        "\n",
        "# Save the updated DataFrame to a new Excel file\n",
        "output_file_path = \"output.xlsx\"\n",
        "df.to_excel(output_file_path, index=False)\n"
      ]
    }
  ]
}