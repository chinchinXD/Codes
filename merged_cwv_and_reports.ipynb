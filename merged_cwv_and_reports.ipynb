{
  "nbformat": 4,
  "nbformat_minor": 0,
  "metadata": {
    "colab": {
      "provenance": [],
      "authorship_tag": "ABX9TyPiILI2wiLTR5cn+GYfxbL2",
      "include_colab_link": true
    },
    "kernelspec": {
      "name": "python3",
      "display_name": "Python 3"
    },
    "language_info": {
      "name": "python"
    }
  },
  "cells": [
    {
      "cell_type": "markdown",
      "metadata": {
        "id": "view-in-github",
        "colab_type": "text"
      },
      "source": [
        "<a href=\"https://colab.research.google.com/github/chinchinXD/Codes/blob/main/merged_cwv_and_reports.ipynb\" target=\"_parent\"><img src=\"https://colab.research.google.com/assets/colab-badge.svg\" alt=\"Open In Colab\"/></a>"
      ]
    },
    {
      "cell_type": "markdown",
      "source": [
        "## **Adding error reports to main file**"
      ],
      "metadata": {
        "id": "CXKvr1BXZwY-"
      }
    },
    {
      "cell_type": "code",
      "execution_count": null,
      "metadata": {
        "id": "NLyprjUuZtiH"
      },
      "outputs": [],
      "source": [
        "import pandas as pd\n",
        "from google.colab import files\n",
        "\n",
        "# Upload the error files\n",
        "uploaded_files = files.upload()"
      ]
    },
    {
      "cell_type": "code",
      "source": [
        "# Process the uploaded files\n",
        "error_files = {}\n",
        "for file_name, file_content in uploaded_files.items():\n",
        "    error_files[file_name] = file_content"
      ],
      "metadata": {
        "id": "1im0GDU8Z-6X"
      },
      "execution_count": null,
      "outputs": []
    },
    {
      "cell_type": "code",
      "source": [
        "import os\n",
        "main_sheet_file = files.upload()\n",
        "# Save the main sheet file to the local filesystem\n",
        "main_sheet_filename = next(iter(main_sheet_file))\n",
        "main_sheet_path = os.path.join('./', main_sheet_filename)\n",
        "with open(main_sheet_path, 'wb') as f:\n",
        "    f.write(main_sheet_file[main_sheet_filename])\n",
        "# Read the main sheet\n",
        "main_sheet = pd.read_excel(main_sheet_path)"
      ],
      "metadata": {
        "colab": {
          "base_uri": "https://localhost:8080/",
          "height": 74
        },
        "id": "anARxUoNaAYZ",
        "outputId": "54bc9236-20e5-498c-a73e-dac30fb3bc10"
      },
      "execution_count": null,
      "outputs": [
        {
          "output_type": "display_data",
          "data": {
            "text/plain": [
              "<IPython.core.display.HTML object>"
            ],
            "text/html": [
              "\n",
              "     <input type=\"file\" id=\"files-10fbae35-3de3-4b90-9f87-e6f77630aab9\" name=\"files[]\" multiple disabled\n",
              "        style=\"border:none\" />\n",
              "     <output id=\"result-10fbae35-3de3-4b90-9f87-e6f77630aab9\">\n",
              "      Upload widget is only available when the cell has been executed in the\n",
              "      current browser session. Please rerun this cell to enable.\n",
              "      </output>\n",
              "      <script>// Copyright 2017 Google LLC\n",
              "//\n",
              "// Licensed under the Apache License, Version 2.0 (the \"License\");\n",
              "// you may not use this file except in compliance with the License.\n",
              "// You may obtain a copy of the License at\n",
              "//\n",
              "//      http://www.apache.org/licenses/LICENSE-2.0\n",
              "//\n",
              "// Unless required by applicable law or agreed to in writing, software\n",
              "// distributed under the License is distributed on an \"AS IS\" BASIS,\n",
              "// WITHOUT WARRANTIES OR CONDITIONS OF ANY KIND, either express or implied.\n",
              "// See the License for the specific language governing permissions and\n",
              "// limitations under the License.\n",
              "\n",
              "/**\n",
              " * @fileoverview Helpers for google.colab Python module.\n",
              " */\n",
              "(function(scope) {\n",
              "function span(text, styleAttributes = {}) {\n",
              "  const element = document.createElement('span');\n",
              "  element.textContent = text;\n",
              "  for (const key of Object.keys(styleAttributes)) {\n",
              "    element.style[key] = styleAttributes[key];\n",
              "  }\n",
              "  return element;\n",
              "}\n",
              "\n",
              "// Max number of bytes which will be uploaded at a time.\n",
              "const MAX_PAYLOAD_SIZE = 100 * 1024;\n",
              "\n",
              "function _uploadFiles(inputId, outputId) {\n",
              "  const steps = uploadFilesStep(inputId, outputId);\n",
              "  const outputElement = document.getElementById(outputId);\n",
              "  // Cache steps on the outputElement to make it available for the next call\n",
              "  // to uploadFilesContinue from Python.\n",
              "  outputElement.steps = steps;\n",
              "\n",
              "  return _uploadFilesContinue(outputId);\n",
              "}\n",
              "\n",
              "// This is roughly an async generator (not supported in the browser yet),\n",
              "// where there are multiple asynchronous steps and the Python side is going\n",
              "// to poll for completion of each step.\n",
              "// This uses a Promise to block the python side on completion of each step,\n",
              "// then passes the result of the previous step as the input to the next step.\n",
              "function _uploadFilesContinue(outputId) {\n",
              "  const outputElement = document.getElementById(outputId);\n",
              "  const steps = outputElement.steps;\n",
              "\n",
              "  const next = steps.next(outputElement.lastPromiseValue);\n",
              "  return Promise.resolve(next.value.promise).then((value) => {\n",
              "    // Cache the last promise value to make it available to the next\n",
              "    // step of the generator.\n",
              "    outputElement.lastPromiseValue = value;\n",
              "    return next.value.response;\n",
              "  });\n",
              "}\n",
              "\n",
              "/**\n",
              " * Generator function which is called between each async step of the upload\n",
              " * process.\n",
              " * @param {string} inputId Element ID of the input file picker element.\n",
              " * @param {string} outputId Element ID of the output display.\n",
              " * @return {!Iterable<!Object>} Iterable of next steps.\n",
              " */\n",
              "function* uploadFilesStep(inputId, outputId) {\n",
              "  const inputElement = document.getElementById(inputId);\n",
              "  inputElement.disabled = false;\n",
              "\n",
              "  const outputElement = document.getElementById(outputId);\n",
              "  outputElement.innerHTML = '';\n",
              "\n",
              "  const pickedPromise = new Promise((resolve) => {\n",
              "    inputElement.addEventListener('change', (e) => {\n",
              "      resolve(e.target.files);\n",
              "    });\n",
              "  });\n",
              "\n",
              "  const cancel = document.createElement('button');\n",
              "  inputElement.parentElement.appendChild(cancel);\n",
              "  cancel.textContent = 'Cancel upload';\n",
              "  const cancelPromise = new Promise((resolve) => {\n",
              "    cancel.onclick = () => {\n",
              "      resolve(null);\n",
              "    };\n",
              "  });\n",
              "\n",
              "  // Wait for the user to pick the files.\n",
              "  const files = yield {\n",
              "    promise: Promise.race([pickedPromise, cancelPromise]),\n",
              "    response: {\n",
              "      action: 'starting',\n",
              "    }\n",
              "  };\n",
              "\n",
              "  cancel.remove();\n",
              "\n",
              "  // Disable the input element since further picks are not allowed.\n",
              "  inputElement.disabled = true;\n",
              "\n",
              "  if (!files) {\n",
              "    return {\n",
              "      response: {\n",
              "        action: 'complete',\n",
              "      }\n",
              "    };\n",
              "  }\n",
              "\n",
              "  for (const file of files) {\n",
              "    const li = document.createElement('li');\n",
              "    li.append(span(file.name, {fontWeight: 'bold'}));\n",
              "    li.append(span(\n",
              "        `(${file.type || 'n/a'}) - ${file.size} bytes, ` +\n",
              "        `last modified: ${\n",
              "            file.lastModifiedDate ? file.lastModifiedDate.toLocaleDateString() :\n",
              "                                    'n/a'} - `));\n",
              "    const percent = span('0% done');\n",
              "    li.appendChild(percent);\n",
              "\n",
              "    outputElement.appendChild(li);\n",
              "\n",
              "    const fileDataPromise = new Promise((resolve) => {\n",
              "      const reader = new FileReader();\n",
              "      reader.onload = (e) => {\n",
              "        resolve(e.target.result);\n",
              "      };\n",
              "      reader.readAsArrayBuffer(file);\n",
              "    });\n",
              "    // Wait for the data to be ready.\n",
              "    let fileData = yield {\n",
              "      promise: fileDataPromise,\n",
              "      response: {\n",
              "        action: 'continue',\n",
              "      }\n",
              "    };\n",
              "\n",
              "    // Use a chunked sending to avoid message size limits. See b/62115660.\n",
              "    let position = 0;\n",
              "    do {\n",
              "      const length = Math.min(fileData.byteLength - position, MAX_PAYLOAD_SIZE);\n",
              "      const chunk = new Uint8Array(fileData, position, length);\n",
              "      position += length;\n",
              "\n",
              "      const base64 = btoa(String.fromCharCode.apply(null, chunk));\n",
              "      yield {\n",
              "        response: {\n",
              "          action: 'append',\n",
              "          file: file.name,\n",
              "          data: base64,\n",
              "        },\n",
              "      };\n",
              "\n",
              "      let percentDone = fileData.byteLength === 0 ?\n",
              "          100 :\n",
              "          Math.round((position / fileData.byteLength) * 100);\n",
              "      percent.textContent = `${percentDone}% done`;\n",
              "\n",
              "    } while (position < fileData.byteLength);\n",
              "  }\n",
              "\n",
              "  // All done.\n",
              "  yield {\n",
              "    response: {\n",
              "      action: 'complete',\n",
              "    }\n",
              "  };\n",
              "}\n",
              "\n",
              "scope.google = scope.google || {};\n",
              "scope.google.colab = scope.google.colab || {};\n",
              "scope.google.colab._files = {\n",
              "  _uploadFiles,\n",
              "  _uploadFilesContinue,\n",
              "};\n",
              "})(self);\n",
              "</script> "
            ]
          },
          "metadata": {}
        },
        {
          "output_type": "stream",
          "name": "stdout",
          "text": [
            "Saving FD pages test.xlsx to FD pages test.xlsx\n"
          ]
        }
      ]
    },
    {
      "cell_type": "code",
      "source": [
        "# Process each error file\n",
        "for error_file_name, error_file_content in error_files.items():\n",
        "    error_file_data = pd.read_excel(pd.ExcelFile(error_file_content), sheet_name='Table')\n",
        "    column_name = error_file_name.split('-')[0].strip()\n",
        "\n",
        "    # Iterate over each URL in the main file\n",
        "    for url in main_sheet['URL']:\n",
        "        found = False\n",
        "\n",
        "        # Iterate over each URL in the error file\n",
        "        for error_url in error_file_data['URL']:\n",
        "            if url == error_url:\n",
        "                found = True\n",
        "                break\n",
        "\n",
        "        # Update the main file with the error file name if URL found\n",
        "        if found:\n",
        "            main_sheet.loc[main_sheet['URL'] == url, column_name] = error_file_name\n",
        "\n",
        "    # If no match found for any URL, update with 'Good'\n",
        "    main_sheet[column_name].fillna('Good', inplace=True)\n",
        "\n",
        "# Save the updated main file with error columns\n",
        "output_file_path = '/content/output_file.xlsx'\n",
        "main_sheet.to_excel(output_file_path, index=False)\n",
        "\n",
        "# Download the output file\n",
        "files.download(output_file_path)"
      ],
      "metadata": {
        "colab": {
          "base_uri": "https://localhost:8080/",
          "height": 17
        },
        "id": "VLuftndnaCMB",
        "outputId": "58620f1e-1476-41ce-9a86-0ff43b8a0c49"
      },
      "execution_count": null,
      "outputs": [
        {
          "output_type": "display_data",
          "data": {
            "text/plain": [
              "<IPython.core.display.Javascript object>"
            ],
            "application/javascript": [
              "\n",
              "    async function download(id, filename, size) {\n",
              "      if (!google.colab.kernel.accessAllowed) {\n",
              "        return;\n",
              "      }\n",
              "      const div = document.createElement('div');\n",
              "      const label = document.createElement('label');\n",
              "      label.textContent = `Downloading \"${filename}\": `;\n",
              "      div.appendChild(label);\n",
              "      const progress = document.createElement('progress');\n",
              "      progress.max = size;\n",
              "      div.appendChild(progress);\n",
              "      document.body.appendChild(div);\n",
              "\n",
              "      const buffers = [];\n",
              "      let downloaded = 0;\n",
              "\n",
              "      const channel = await google.colab.kernel.comms.open(id);\n",
              "      // Send a message to notify the kernel that we're ready.\n",
              "      channel.send({})\n",
              "\n",
              "      for await (const message of channel.messages) {\n",
              "        // Send a message to notify the kernel that we're ready.\n",
              "        channel.send({})\n",
              "        if (message.buffers) {\n",
              "          for (const buffer of message.buffers) {\n",
              "            buffers.push(buffer);\n",
              "            downloaded += buffer.byteLength;\n",
              "            progress.value = downloaded;\n",
              "          }\n",
              "        }\n",
              "      }\n",
              "      const blob = new Blob(buffers, {type: 'application/binary'});\n",
              "      const a = document.createElement('a');\n",
              "      a.href = window.URL.createObjectURL(blob);\n",
              "      a.download = filename;\n",
              "      div.appendChild(a);\n",
              "      a.click();\n",
              "      div.remove();\n",
              "    }\n",
              "  "
            ]
          },
          "metadata": {}
        },
        {
          "output_type": "display_data",
          "data": {
            "text/plain": [
              "<IPython.core.display.Javascript object>"
            ],
            "application/javascript": [
              "download(\"download_7843ea0d-1ed4-4ae0-b02c-531d4e1a2255\", \"output_file.xlsx\", 11076)"
            ]
          },
          "metadata": {}
        }
      ]
    },
    {
      "cell_type": "markdown",
      "source": [
        "## **CORE WEB VITALS**"
      ],
      "metadata": {
        "id": "5sDqv3_JaGjs"
      }
    },
    {
      "cell_type": "code",
      "source": [
        "import pandas as pd\n",
        "import requests\n",
        "from concurrent.futures import ThreadPoolExecutor\n",
        "from google.colab import files\n",
        "\n",
        "# Read the Excel file and extract URLs from the \"URL\" column\n",
        "df = main_sheet\n",
        "urls = df[\"URL\"].tolist()"
      ],
      "metadata": {
        "id": "m_NPtfZ4aDqC"
      },
      "execution_count": null,
      "outputs": []
    },
    {
      "cell_type": "code",
      "source": [
        "# Define the API endpoint\n",
        "api_url = \"https://www.googleapis.com/pagespeedonline/v5/runPagespeed\"\n",
        "\n",
        "# Function to fetch metrics for a given URL and strategy\n",
        "def fetch_metrics(url):\n",
        "    params = {\n",
        "        \"url\": url,\n",
        "        \"strategy\": \"mobile\",\n",
        "        \"category\": \"performance\",\n",
        "        \"fields\": \"lighthouseResult\"\n",
        "    }\n",
        "    response = requests.get(api_url, params=params)\n",
        "    data = response.json()\n",
        "    try:\n",
        "        lcp = data[\"lighthouseResult\"][\"audits\"][\"largest-contentful-paint\"][\"displayValue\"]\n",
        "        fid = data[\"lighthouseResult\"][\"audits\"][\"max-potential-fid\"][\"displayValue\"]\n",
        "        cls = data[\"lighthouseResult\"][\"audits\"][\"cumulative-layout-shift\"][\"displayValue\"]\n",
        "        return url, lcp, fid, cls\n",
        "    except KeyError:\n",
        "        return url, \"N/A\", \"N/A\", \"N/A\"\n",
        "\n",
        "# Create a ThreadPoolExecutor to execute requests concurrently\n",
        "with ThreadPoolExecutor() as executor:\n",
        "    # Submit tasks for fetching metrics\n",
        "    tasks = [executor.submit(fetch_metrics, url) for url in urls]\n",
        "\n",
        "    # Extract metrics\n",
        "    results = [task.result() for task in tasks]\n",
        "\n",
        "# Create a new DataFrame to store the results\n",
        "results_df = pd.DataFrame(columns=[\"URL\", \"LCP (Mobile)\", \"FID (Mobile)\", \"CLS (Mobile)\"])\n",
        "for url, lcp_mobile, fid_mobile, cls_mobile in results:\n",
        "    results_df = pd.concat([\n",
        "        results_df,\n",
        "        pd.DataFrame({\"URL\": [url], \"LCP (Mobile)\": [lcp_mobile], \"FID (Mobile)\": [fid_mobile], \"CLS (Mobile)\": [cls_mobile]})\n",
        "    ], ignore_index=True)\n",
        "\n",
        "# Merge the results with the original DataFrame based on the URL column\n",
        "merged_df = pd.merge(df, results_df, on=\"URL\", how=\"left\")\n",
        "\n",
        "# Save the merged DataFrame to a new Excel file\n",
        "output_file = \"added CWV.xlsx\"\n",
        "merged_df.to_excel(output_file, index=False)\n",
        "files.download(output_file)"
      ],
      "metadata": {
        "colab": {
          "base_uri": "https://localhost:8080/",
          "height": 17
        },
        "id": "-WI2kBhhaaOF",
        "outputId": "ff3d676c-28ae-4d4a-f0f5-1aa3f62a4d14"
      },
      "execution_count": null,
      "outputs": [
        {
          "output_type": "display_data",
          "data": {
            "text/plain": [
              "<IPython.core.display.Javascript object>"
            ],
            "application/javascript": [
              "\n",
              "    async function download(id, filename, size) {\n",
              "      if (!google.colab.kernel.accessAllowed) {\n",
              "        return;\n",
              "      }\n",
              "      const div = document.createElement('div');\n",
              "      const label = document.createElement('label');\n",
              "      label.textContent = `Downloading \"${filename}\": `;\n",
              "      div.appendChild(label);\n",
              "      const progress = document.createElement('progress');\n",
              "      progress.max = size;\n",
              "      div.appendChild(progress);\n",
              "      document.body.appendChild(div);\n",
              "\n",
              "      const buffers = [];\n",
              "      let downloaded = 0;\n",
              "\n",
              "      const channel = await google.colab.kernel.comms.open(id);\n",
              "      // Send a message to notify the kernel that we're ready.\n",
              "      channel.send({})\n",
              "\n",
              "      for await (const message of channel.messages) {\n",
              "        // Send a message to notify the kernel that we're ready.\n",
              "        channel.send({})\n",
              "        if (message.buffers) {\n",
              "          for (const buffer of message.buffers) {\n",
              "            buffers.push(buffer);\n",
              "            downloaded += buffer.byteLength;\n",
              "            progress.value = downloaded;\n",
              "          }\n",
              "        }\n",
              "      }\n",
              "      const blob = new Blob(buffers, {type: 'application/binary'});\n",
              "      const a = document.createElement('a');\n",
              "      a.href = window.URL.createObjectURL(blob);\n",
              "      a.download = filename;\n",
              "      div.appendChild(a);\n",
              "      a.click();\n",
              "      div.remove();\n",
              "    }\n",
              "  "
            ]
          },
          "metadata": {}
        },
        {
          "output_type": "display_data",
          "data": {
            "text/plain": [
              "<IPython.core.display.Javascript object>"
            ],
            "application/javascript": [
              "download(\"download_fcabbeb5-da84-4bed-9872-47f3203a0b53\", \"your_file_with_metrics.xlsx\", 14775)"
            ]
          },
          "metadata": {}
        }
      ]
    },
    {
      "cell_type": "markdown",
      "source": [
        "## **Add performance metrics**"
      ],
      "metadata": {
        "id": "jrc7eKFfaiiF"
      }
    },
    {
      "cell_type": "code",
      "source": [
        "#installtions\n",
        "!pip install google-auth-oauthlib\n",
        "!pip install google-api-python-client\n",
        "!pip install oauth2client"
      ],
      "metadata": {
        "id": "0jG6EJ5vaffi"
      },
      "execution_count": null,
      "outputs": []
    },
    {
      "cell_type": "code",
      "source": [
        "import pandas as pd\n",
        "from datetime import datetime, timedelta\n",
        "from google_auth_oauthlib.flow import InstalledAppFlow\n",
        "import logging\n",
        "from googleapiclient.discovery import build\n",
        "from googleapiclient import discovery\n",
        "import datetime\n",
        "from datetime import date, timedelta\n",
        "import httplib2\n",
        "from googleapiclient.discovery import build\n",
        "from oauth2client.client import OAuth2WebServerFlow\n",
        "from collections import defaultdict\n",
        "from dateutil import relativedelta\n",
        "import argparse\n",
        "from oauth2client import client\n",
        "from oauth2client import file\n",
        "from oauth2client import tools\n",
        "import re\n",
        "import os\n",
        "from urllib.parse import urlparse\n",
        "from google.oauth2 import service_account"
      ],
      "metadata": {
        "id": "h5hRqFVEanP5"
      },
      "execution_count": null,
      "outputs": []
    },
    {
      "cell_type": "code",
      "source": [
        "site = 'https://www.bajajfinserv.in/'  # Property to extract\n",
        "num_days = 1  # Number of Days, Months to Extract\n",
        "stype=[\"web\", \"image\", \"video\", \"news\"]\n",
        "\n",
        "maxRows = 25000\n",
        "i = 0\n",
        "output_rows1 = []\n",
        "output_rows2 = []\n",
        "\n",
        "start_date = datetime.datetime.strptime(\"2023-05-01\", \"%Y-%m-%d\")\n",
        "end_date = datetime.datetime.strptime(\"2023-06-06\", \"%Y-%m-%d\")\n",
        "\n",
        "#start_date=date.today()-relativedelta.relativedelta(days=3)\n",
        "#end_date=date.today()-relativedelta.relativedelta(days=3)"
      ],
      "metadata": {
        "id": "ru8M_Nimasu7"
      },
      "execution_count": null,
      "outputs": []
    },
    {
      "cell_type": "code",
      "source": [
        "import json\n",
        "scope = ['https://www.googleapis.com/auth/webmasters.readonly']\n",
        "json_key_file='/content/json_key.json'\n",
        "# Open the JSON file and read its contents\n",
        "with open(json_key_file) as f:\n",
        "    json_key = json.load(f)\n",
        "credentials = service_account.Credentials.from_service_account_info(json_key, scopes=scope)\n",
        "service = build(\n",
        "    'webmasters',\n",
        "    'v3',\n",
        "    credentials=credentials\n",
        ")"
      ],
      "metadata": {
        "id": "7wRvQ2FRa7_h"
      },
      "execution_count": null,
      "outputs": []
    },
    {
      "cell_type": "code",
      "source": [
        "def date_range(start_date, end_date, delta=timedelta(days=1)):\n",
        "    \"\"\"\n",
        "    The range is inclusive, so both start_date and end_date will be returned\n",
        "    Args:\n",
        "        start_date: The datetime object representing the first day in the range.\n",
        "        end_date: The datetime object representing the second day in the range.\n",
        "        delta: A datetime.timedelta instance, specifying the step interval. Defaults to one day.\n",
        "    Yields:\n",
        "        Each datetime object in the range.\n",
        "    \"\"\"\n",
        "    current_date = start_date\n",
        "    while current_date <= end_date:\n",
        "        yield current_date\n",
        "        current_date += delta\n"
      ],
      "metadata": {
        "id": "6LYXJ-OAa9oM"
      },
      "execution_count": null,
      "outputs": []
    },
    {
      "cell_type": "code",
      "source": [
        "def extract_data_sa(stype):\n",
        "    for date in date_range(start_date, end_date):\n",
        "        date = date.strftime(\"%Y-%m-%d\")\n",
        "        print(date)\n",
        "        i = 0\n",
        "        while True:\n",
        "\n",
        "            request = {\n",
        "                'startDate' : date,\n",
        "                'endDate' : date,\n",
        "                'dimensions' : [\"searchAppearance\"],\n",
        "                'searchType': stype,\n",
        "                'rowLimit' : maxRows,\n",
        "                'startRow' : i * maxRows\n",
        "\n",
        "            }\n",
        "\n",
        "            response = service.searchanalytics().query(siteUrl = site, body=request).execute()\n",
        "            print()\n",
        "            if response is None:\n",
        "                print(\"there is no response\")\n",
        "                break\n",
        "            if 'rows' not in response:\n",
        "                print(\"row not in response\")\n",
        "                break\n",
        "            else:\n",
        "                for row in response['rows']:\n",
        "                    searchAppearance = row['keys'][0]\n",
        "                    output_row = [date,searchAppearance,stype,row['clicks'], row['ctr'], row['impressions'], row['position']]\n",
        "                    output_rows1.append(output_row)\n",
        "                i = i + 1\n",
        "\n",
        "    df = pd.DataFrame(output_rows1, columns=['date','search_appearance','search_type','clicks','ctr','impressions','position'])\n",
        "    return df"
      ],
      "metadata": {
        "id": "i23yvqQrbC_c"
      },
      "execution_count": null,
      "outputs": []
    },
    {
      "cell_type": "code",
      "source": [
        "df2=pd.DataFrame()\n",
        "for st in stype:\n",
        "    df2 =df2.append(extract_data_sa(st))\n",
        "df2.drop_duplicates(inplace=True)\n",
        "lst_search_appearance =list(set(df2['search_appearance'].to_list()))"
      ],
      "metadata": {
        "id": "Gr3Ls3zIbagp"
      },
      "execution_count": null,
      "outputs": []
    },
    {
      "cell_type": "code",
      "source": [
        "def extract_data(sAppear):\n",
        "    for date in date_range(start_date, end_date):\n",
        "        date = date.strftime(\"%Y-%m-%d\")\n",
        "        print(date)\n",
        "        i = 0\n",
        "        while True:\n",
        "\n",
        "            request = {\n",
        "                'startDate' : date,\n",
        "                'endDate' : date,\n",
        "                'searchType': \"web\",\n",
        "                \"dimensions\":[\"query\",\"page\",\"country\",\"device\"],\n",
        "                \"dimensionFilterGroups\":[\n",
        "                    {\n",
        "                        \"filters\": [\n",
        "                            {\n",
        "                            \"dimension\": \"searchAppearance\",\n",
        "                            \"operator\": \"equals\",\n",
        "                            \"expression\": sAppear\n",
        "                            }\n",
        "\n",
        "                        ]\n",
        "                    }\n",
        "\n",
        "                ],\n",
        "\n",
        "                'rowLimit' : maxRows,\n",
        "                'startRow' : i * maxRows\n",
        "            }\n",
        "\n",
        "\n",
        "            response = service.searchanalytics().query(siteUrl = site, body=request).execute()\n",
        "            print()\n",
        "            if response is None:\n",
        "                print(\"there is no response\")\n",
        "                break\n",
        "            if 'rows' not in response:\n",
        "                print(\"row not in response\")\n",
        "                break\n",
        "            else:\n",
        "                for row in response['rows']:\n",
        "                    keyword = row['keys'][0]\n",
        "                    page = row['keys'][1]\n",
        "                    country = row['keys'][2]\n",
        "                    device = row['keys'][3]\n",
        "                    IsSVDone = ''\n",
        "                    KeywordID=''\n",
        "                    output_row = [date, page,keyword,country,device,sAppear,row['clicks'], row['ctr'], row['impressions'], row['position'],IsSVDone,KeywordID]\n",
        "                    output_rows2.append(output_row)\n",
        "                i = i + 1\n",
        "\n",
        "    dff = pd.DataFrame(output_rows2, columns=['date','page','query', 'country', 'device','search_appearance','clicks','ctr','impressions','position','IsSVDone','KeywordID'])\n",
        "    return dff"
      ],
      "metadata": {
        "id": "rST1xHaLbih7"
      },
      "execution_count": null,
      "outputs": []
    },
    {
      "cell_type": "code",
      "source": [
        "df3=pd.DataFrame()\n",
        "for sa in lst_search_appearance:\n",
        "    df3 =df3.append(extract_data(sa))\n",
        "df3.drop_duplicates(inplace=True)\n",
        "#df3.drop(df3[(df3['query'] == 'web')].index, inplace=True)"
      ],
      "metadata": {
        "id": "k0KZ-wdXbmqh"
      },
      "execution_count": null,
      "outputs": []
    },
    {
      "cell_type": "code",
      "source": [
        "#some changes\n",
        "df3['clicks'] = df3['clicks'].astype('int')\n",
        "df3['ctr'] = df3['ctr'] * 100\n",
        "df3['impressions'] = df3['impressions'].astype('int')\n",
        "df3['position'] = df3['position'].round(2)"
      ],
      "metadata": {
        "id": "dKU8rwZjb0fc"
      },
      "execution_count": null,
      "outputs": []
    },
    {
      "cell_type": "code",
      "source": [
        "df3.head()"
      ],
      "metadata": {
        "id": "69VjO6lJb_FR"
      },
      "execution_count": null,
      "outputs": []
    },
    {
      "cell_type": "code",
      "source": [
        "# Read the main Excel file with \"Sheet1\"\n",
        "main_file_path = \"/content/your_file_with_metrics.xlsx\"\n",
        "main_file = pd.ExcelFile(main_file_path)\n",
        "main_df_sheet1 = main_file.parse(\"Sheet1\")\n",
        "\n",
        "# Perform the matching and populate \"Sheet2\"\n",
        "df3_matched = df3.merge(main_df_sheet1, left_on=\"page\", right_on=\"URL\", how=\"inner\")\n",
        "sheet2_data = df3_matched[[\"URL\", \"date\", \"page\", \"query\", \"country\", \"device\", \"search_appearance\", \"clicks\", \"ctr\", \"impressions\", \"position\", \"IsSVDone\", \"KeywordID\"]]\n",
        "\n",
        "# Append \"Sheet2\" to the main Excel file\n",
        "with pd.ExcelWriter(main_file_path, mode=\"w\") as writer:\n",
        "    main_df_sheet1.to_excel(writer, sheet_name=\"Sheet1\", index=False)\n",
        "    sheet2_data.to_excel(writer, sheet_name=\"Sheet2\", index=False)\n",
        "\n",
        "# Download the updated main Excel file\n",
        "files.download(main_file_path)"
      ],
      "metadata": {
        "colab": {
          "base_uri": "https://localhost:8080/",
          "height": 17
        },
        "id": "9mStu_Ljb3I8",
        "outputId": "2bad3f4d-89e3-492b-df4e-872d34d1c932"
      },
      "execution_count": null,
      "outputs": [
        {
          "output_type": "display_data",
          "data": {
            "text/plain": [
              "<IPython.core.display.Javascript object>"
            ],
            "application/javascript": [
              "\n",
              "    async function download(id, filename, size) {\n",
              "      if (!google.colab.kernel.accessAllowed) {\n",
              "        return;\n",
              "      }\n",
              "      const div = document.createElement('div');\n",
              "      const label = document.createElement('label');\n",
              "      label.textContent = `Downloading \"${filename}\": `;\n",
              "      div.appendChild(label);\n",
              "      const progress = document.createElement('progress');\n",
              "      progress.max = size;\n",
              "      div.appendChild(progress);\n",
              "      document.body.appendChild(div);\n",
              "\n",
              "      const buffers = [];\n",
              "      let downloaded = 0;\n",
              "\n",
              "      const channel = await google.colab.kernel.comms.open(id);\n",
              "      // Send a message to notify the kernel that we're ready.\n",
              "      channel.send({})\n",
              "\n",
              "      for await (const message of channel.messages) {\n",
              "        // Send a message to notify the kernel that we're ready.\n",
              "        channel.send({})\n",
              "        if (message.buffers) {\n",
              "          for (const buffer of message.buffers) {\n",
              "            buffers.push(buffer);\n",
              "            downloaded += buffer.byteLength;\n",
              "            progress.value = downloaded;\n",
              "          }\n",
              "        }\n",
              "      }\n",
              "      const blob = new Blob(buffers, {type: 'application/binary'});\n",
              "      const a = document.createElement('a');\n",
              "      a.href = window.URL.createObjectURL(blob);\n",
              "      a.download = filename;\n",
              "      div.appendChild(a);\n",
              "      a.click();\n",
              "      div.remove();\n",
              "    }\n",
              "  "
            ]
          },
          "metadata": {}
        },
        {
          "output_type": "display_data",
          "data": {
            "text/plain": [
              "<IPython.core.display.Javascript object>"
            ],
            "application/javascript": [
              "download(\"download_af9b8114-7c9f-4957-afc8-abd5861f8518\", \"your_file_with_metrics.xlsx\", 519466)"
            ]
          },
          "metadata": {}
        }
      ]
    }
  ]
}